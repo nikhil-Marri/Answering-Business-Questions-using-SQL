{
 "cells": [
  {
   "cell_type": "code",
   "execution_count": 2,
   "metadata": {
    "collapsed": false
   },
   "outputs": [
    {
     "data": {
      "text/html": [
       "<div>\n",
       "<table border=\"1\" class=\"dataframe\">\n",
       "  <thead>\n",
       "    <tr style=\"text-align: right;\">\n",
       "      <th></th>\n",
       "      <th>name</th>\n",
       "      <th>type</th>\n",
       "    </tr>\n",
       "  </thead>\n",
       "  <tbody>\n",
       "    <tr>\n",
       "      <th>0</th>\n",
       "      <td>album</td>\n",
       "      <td>table</td>\n",
       "    </tr>\n",
       "    <tr>\n",
       "      <th>1</th>\n",
       "      <td>artist</td>\n",
       "      <td>table</td>\n",
       "    </tr>\n",
       "    <tr>\n",
       "      <th>2</th>\n",
       "      <td>customer</td>\n",
       "      <td>table</td>\n",
       "    </tr>\n",
       "    <tr>\n",
       "      <th>3</th>\n",
       "      <td>employee</td>\n",
       "      <td>table</td>\n",
       "    </tr>\n",
       "    <tr>\n",
       "      <th>4</th>\n",
       "      <td>genre</td>\n",
       "      <td>table</td>\n",
       "    </tr>\n",
       "    <tr>\n",
       "      <th>5</th>\n",
       "      <td>invoice</td>\n",
       "      <td>table</td>\n",
       "    </tr>\n",
       "    <tr>\n",
       "      <th>6</th>\n",
       "      <td>invoice_line</td>\n",
       "      <td>table</td>\n",
       "    </tr>\n",
       "    <tr>\n",
       "      <th>7</th>\n",
       "      <td>media_type</td>\n",
       "      <td>table</td>\n",
       "    </tr>\n",
       "    <tr>\n",
       "      <th>8</th>\n",
       "      <td>playlist</td>\n",
       "      <td>table</td>\n",
       "    </tr>\n",
       "    <tr>\n",
       "      <th>9</th>\n",
       "      <td>playlist_track</td>\n",
       "      <td>table</td>\n",
       "    </tr>\n",
       "    <tr>\n",
       "      <th>10</th>\n",
       "      <td>track</td>\n",
       "      <td>table</td>\n",
       "    </tr>\n",
       "    <tr>\n",
       "      <th>11</th>\n",
       "      <td>cutomer_new</td>\n",
       "      <td>view</td>\n",
       "    </tr>\n",
       "    <tr>\n",
       "      <th>12</th>\n",
       "      <td>cutomer_updated</td>\n",
       "      <td>view</td>\n",
       "    </tr>\n",
       "    <tr>\n",
       "      <th>13</th>\n",
       "      <td>cust</td>\n",
       "      <td>view</td>\n",
       "    </tr>\n",
       "  </tbody>\n",
       "</table>\n",
       "</div>"
      ],
      "text/plain": [
       "               name   type\n",
       "0             album  table\n",
       "1            artist  table\n",
       "2          customer  table\n",
       "3          employee  table\n",
       "4             genre  table\n",
       "5           invoice  table\n",
       "6      invoice_line  table\n",
       "7        media_type  table\n",
       "8          playlist  table\n",
       "9    playlist_track  table\n",
       "10            track  table\n",
       "11      cutomer_new   view\n",
       "12  cutomer_updated   view\n",
       "13             cust   view"
      ]
     },
     "execution_count": 2,
     "metadata": {},
     "output_type": "execute_result"
    }
   ],
   "source": [
    "import sqlite3\n",
    "import pandas as pd\n",
    "import numpy as np\n",
    "import matplotlib.pyplot as plt\n",
    "from matplotlib import cm\n",
    "%matplotlib inline\n",
    "\n",
    "db = 'chinook.db'\n",
    "\n",
    "def run_query(q):\n",
    "    with sqlite3.connect(db) as conn:\n",
    "        return pd.read_sql(q, conn)\n",
    "\n",
    "def run_command(c):\n",
    "    with sqlite3.connect(db) as conn:\n",
    "        conn.isolation_level = None\n",
    "        conn.execute(c)\n",
    "\n",
    "def show_tables():\n",
    "    q = '''\n",
    "    SELECT\n",
    "        name,\n",
    "        type\n",
    "    FROM sqlite_master\n",
    "    WHERE type IN (\"table\",\"view\");\n",
    "    '''\n",
    "    return run_query(q)\n",
    "\n",
    "show_tables()"
   ]
  },
  {
   "cell_type": "code",
   "execution_count": 3,
   "metadata": {
    "collapsed": false,
    "scrolled": true
   },
   "outputs": [
    {
     "data": {
      "text/plain": [
       "<matplotlib.text.Text at 0x7f454034ec18>"
      ]
     },
     "execution_count": 3,
     "metadata": {},
     "output_type": "execute_result"
    },
    {
     "data": {
      "image/png": "[encoded data removed]",
      "text/plain": [
       "<matplotlib.figure.Figure at 0x7f4542cba198>"
      ]
     },
     "metadata": {},
     "output_type": "display_data"
    }
   ],
   "source": [
    "q1=('''\n",
    "WITH new AS\n",
    "    (SELECT il.track_id,t.genre_id,g.name FROM invoice_line as il\n",
    "     INNER JOIN track as t ON il.track_id=t.track_id\n",
    "     INNER join genre as g ON g.genre_id=t.genre_id\n",
    "     INNER JOIN invoice as i ON il.invoice_id=i.invoice_id\n",
    "     INNER JOIN customer as c ON i.customer_id=c.customer_id\n",
    "     WHERE c.country='USA' \n",
    "    )\n",
    "    \n",
    "SELECT new.name AS genre,\n",
    "       COUNT(new.track_id) AS tracks_sold,\n",
    "       CAST(COUNT(new.track_id) AS Float)/CAST((SELECT COUNT(*) FROM new) AS Float) AS percentage\n",
    "FROM new\n",
    "GROUP BY 1 \n",
    "ORDER BY 2 DESC\n",
    "    ''')\n",
    "genre_df=run_query(q1)\n",
    "genre_df.plot.bar(x='genre',y='tracks_sold',color='green')\n",
    "plt.title('Top selling genres in USA')\n",
    "\n",
    "\n"
   ]
  },
  {
   "cell_type": "markdown",
   "metadata": {},
   "source": [
    "Based on the bar plot on top selling genres in USA, we should purchase the albums from the artists: 'Red Tone(Punk)','Slim Jim Bites(Blues)'and 'Meteor and the Girls(Pop)'.\n",
    "We should rally on purchasing more albums from Rock genre, as it accounts for more than 50% of the sales."
   ]
  },
  {
   "cell_type": "code",
   "execution_count": 5,
   "metadata": {
    "collapsed": false
   },
   "outputs": [
    {
     "data": {
      "text/plain": [
       "<matplotlib.text.Text at 0x7f4542d5cda0>"
      ]
     },
     "execution_count": 5,
     "metadata": {},
     "output_type": "execute_result"
    },
    {
     "data": {
      "image/png": "[encoded data removed]",
      "text/plain": [
       "<matplotlib.figure.Figure at 0x7f45401a68d0>"
      ]
     },
     "metadata": {},
     "output_type": "display_data"
    }
   ],
   "source": [
    "import seaborn as sns\n",
    "sales_query='''\n",
    "WITH sales AS\n",
    "    (SELECT il.total,e.first_name||' '||e.last_name AS sales_rep,e.hire_date\n",
    "     FROM invoice AS il\n",
    "     INNER JOIN customer AS c ON c.customer_id=il.customer_id\n",
    "     INNER JOIN employee AS e ON e.employee_id=c.support_rep_id\n",
    "    )\n",
    "SELECT s.sales_rep,\n",
    "       s.hire_date,\n",
    "       SUM(s.total) AS sales_amount,\n",
    "       CAST(SUM(s.total) AS Float)/CAST((SELECT SUM(total) FROM sales) AS Float) AS ratio\n",
    "FROM sales as s\n",
    "GROUP BY 1\n",
    "ORDER BY 2 DESC;\n",
    "'''\n",
    "sales_df=run_query(sales_query)\n",
    "sales_df.set_index(\"sales_rep\", drop=True, inplace=True)\n",
    "sales_df.plot.bar()\n",
    "plt.title(\"Sales by Sales support Agent\")\n",
    "plt.xticks(rotation='horizontal')\n",
    "plt.xlabel('')\n"
   ]
  },
  {
   "cell_type": "code",
   "execution_count": 5,
   "metadata": {
    "collapsed": false
   },
   "outputs": [
    {
     "data": {
      "text/html": [
       "<div>\n",
       "<table border=\"1\" class=\"dataframe\">\n",
       "  <thead>\n",
       "    <tr style=\"text-align: right;\">\n",
       "      <th></th>\n",
       "      <th>country</th>\n",
       "      <th>customers</th>\n",
       "      <th>total_sales</th>\n",
       "      <th>customer_lifetime_value</th>\n",
       "      <th>average_order</th>\n",
       "    </tr>\n",
       "  </thead>\n",
       "  <tbody>\n",
       "    <tr>\n",
       "      <th>0</th>\n",
       "      <td>USA</td>\n",
       "      <td>13</td>\n",
       "      <td>1040.49</td>\n",
       "      <td>80.037692</td>\n",
       "      <td>7.942672</td>\n",
       "    </tr>\n",
       "    <tr>\n",
       "      <th>1</th>\n",
       "      <td>Canada</td>\n",
       "      <td>8</td>\n",
       "      <td>535.59</td>\n",
       "      <td>66.948750</td>\n",
       "      <td>7.047237</td>\n",
       "    </tr>\n",
       "    <tr>\n",
       "      <th>2</th>\n",
       "      <td>Brazil</td>\n",
       "      <td>5</td>\n",
       "      <td>427.68</td>\n",
       "      <td>85.536000</td>\n",
       "      <td>7.011148</td>\n",
       "    </tr>\n",
       "    <tr>\n",
       "      <th>3</th>\n",
       "      <td>France</td>\n",
       "      <td>5</td>\n",
       "      <td>389.07</td>\n",
       "      <td>77.814000</td>\n",
       "      <td>7.781400</td>\n",
       "    </tr>\n",
       "    <tr>\n",
       "      <th>4</th>\n",
       "      <td>Germany</td>\n",
       "      <td>4</td>\n",
       "      <td>334.62</td>\n",
       "      <td>83.655000</td>\n",
       "      <td>8.161463</td>\n",
       "    </tr>\n",
       "    <tr>\n",
       "      <th>5</th>\n",
       "      <td>Czech Republic</td>\n",
       "      <td>2</td>\n",
       "      <td>273.24</td>\n",
       "      <td>136.620000</td>\n",
       "      <td>9.108000</td>\n",
       "    </tr>\n",
       "    <tr>\n",
       "      <th>6</th>\n",
       "      <td>United Kingdom</td>\n",
       "      <td>3</td>\n",
       "      <td>245.52</td>\n",
       "      <td>81.840000</td>\n",
       "      <td>8.768571</td>\n",
       "    </tr>\n",
       "    <tr>\n",
       "      <th>7</th>\n",
       "      <td>Portugal</td>\n",
       "      <td>2</td>\n",
       "      <td>185.13</td>\n",
       "      <td>92.565000</td>\n",
       "      <td>6.383793</td>\n",
       "    </tr>\n",
       "    <tr>\n",
       "      <th>8</th>\n",
       "      <td>India</td>\n",
       "      <td>2</td>\n",
       "      <td>183.15</td>\n",
       "      <td>91.575000</td>\n",
       "      <td>8.721429</td>\n",
       "    </tr>\n",
       "    <tr>\n",
       "      <th>9</th>\n",
       "      <td>Other</td>\n",
       "      <td>15</td>\n",
       "      <td>1094.94</td>\n",
       "      <td>72.996000</td>\n",
       "      <td>7.448571</td>\n",
       "    </tr>\n",
       "  </tbody>\n",
       "</table>\n",
       "</div>"
      ],
      "text/plain": [
       "          country  customers  total_sales  customer_lifetime_value  \\\n",
       "0             USA         13      1040.49                80.037692   \n",
       "1          Canada          8       535.59                66.948750   \n",
       "2          Brazil          5       427.68                85.536000   \n",
       "3          France          5       389.07                77.814000   \n",
       "4         Germany          4       334.62                83.655000   \n",
       "5  Czech Republic          2       273.24               136.620000   \n",
       "6  United Kingdom          3       245.52                81.840000   \n",
       "7        Portugal          2       185.13                92.565000   \n",
       "8           India          2       183.15                91.575000   \n",
       "9           Other         15      1094.94                72.996000   \n",
       "\n",
       "   average_order  \n",
       "0       7.942672  \n",
       "1       7.047237  \n",
       "2       7.011148  \n",
       "3       7.781400  \n",
       "4       8.161463  \n",
       "5       9.108000  \n",
       "6       8.768571  \n",
       "7       6.383793  \n",
       "8       8.721429  \n",
       "9       7.448571  "
      ]
     },
     "execution_count": 5,
     "metadata": {},
     "output_type": "execute_result"
    }
   ],
   "source": [
    "sales_by_country = '''\n",
    "WITH country_or_other AS\n",
    "    (\n",
    "     SELECT\n",
    "       CASE\n",
    "           WHEN (\n",
    "                 SELECT count(*)\n",
    "                 FROM customer\n",
    "                 where country = c.country\n",
    "                ) = 1 THEN \"Other\"\n",
    "           ELSE c.country\n",
    "       END AS country,\n",
    "       c.customer_id,\n",
    "       il.*\n",
    "     FROM invoice_line il\n",
    "     INNER JOIN invoice i ON i.invoice_id = il.invoice_id\n",
    "     INNER JOIN customer c ON c.customer_id = i.customer_id\n",
    "    ),\n",
    "updated_by_country AS \n",
    "    (SELECT\n",
    "        country,\n",
    "        count(distinct customer_id) customers,\n",
    "        SUM(unit_price) total_sales,\n",
    "        SUM(unit_price) / count(distinct customer_id) customer_lifetime_value,\n",
    "        SUM(unit_price) / count(distinct invoice_id) average_order,\n",
    "        CASE\n",
    "            WHEN country = \"Other\" THEN 1\n",
    "            ELSE 0\n",
    "        END AS sort\n",
    "    FROM country_or_other\n",
    "    GROUP BY country\n",
    "    ORDER BY sort ASC, total_sales DESC)\n",
    "\n",
    "SELECT country,customers,total_sales,customer_lifetime_value,average_order\n",
    "FROM updated_by_country;\n",
    "'''\n",
    "by_country=run_query(sales_by_country)\n",
    "by_country"
   ]
  },
  {
   "cell_type": "code",
   "execution_count": 73,
   "metadata": {
    "collapsed": false
   },
   "outputs": [
    {
     "data": {
      "text/plain": [
       "10"
      ]
     },
     "execution_count": 73,
     "metadata": {},
     "output_type": "execute_result"
    }
   ],
   "source": [
    "test='''\n",
    "WITH merged AS(\n",
    "SELECT il.invoice_id,tr.track_id,tr.album_id\n",
    "FROM invoice_line AS il\n",
    "INNER JOIN track as tr ON il.track_id=tr.track_id\n",
    ")\n",
    "\n",
    "SELECT * FROM merged\n",
    "'''\n",
    "alb='''\n",
    "SELECT track_id,album_id FROM track\n",
    "'''\n",
    "tst=run_query(test)\n",
    "album=run_query(alb)\n",
    "count_yes=0\n",
    "count_no=0\n",
    "#for id in tst['invoice_id'].unique():\n",
    "track_list=tst['track_id'][tst['invoice_id']==2].tolist()\n",
    "album_list=set(tst['album_id'][tst['invoice_id']==2].tolist())\n",
    "for value in album_list:\n",
    "    album_songs=album['track_id'][album['album_id']==value].tolist()\n",
    "    if set(album_songs).issubset(set(track_list)):\n",
    "        count_yes+=1\n",
    "    else:\n",
    "        count_no+=1    \n",
    "count_no"
   ]
  },
  {
   "cell_type": "code",
   "execution_count": null,
   "metadata": {
    "collapsed": true
   },
   "outputs": [],
   "source": []
  }
 ],
 "metadata": {
  "kernelspec": {
   "display_name": "Python 3",
   "language": "python",
   "name": "python3"
  },
  "language_info": {
   "codemirror_mode": {
    "name": "ipython",
    "version": 3
   },
   "file_extension": ".py",
   "mimetype": "text/x-python",
   "name": "python",
   "nbconvert_exporter": "python",
   "pygments_lexer": "ipython3",
   "version": "3.4.3"
  }
 },
 "nbformat": 4,
 "nbformat_minor": 2
}
